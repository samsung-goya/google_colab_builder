{
  "cells": [
    {
      "cell_type": "markdown",
      "metadata": {
        "colab_type": "text",
        "id": "view-in-github"
      },
      "source": [
        "<a href=\"https://colab.research.google.com/github/samsung-goya/google_colab_builder/blob/cm-11.0/Android_Build_Colab.ipynb\" target=\"_parent\"><img src=\"https://colab.research.google.com/assets/colab-badge.svg\" alt=\"Open In Colab\"/></a>"
      ]
    },
    {
      "cell_type": "markdown",
      "metadata": {
        "id": "E53kRsuFJKGV"
      },
      "source": [
        "# Configuring build environment"
      ]
    },
    {
      "cell_type": "code",
      "execution_count": null,
      "metadata": {
        "id": "27v2yRNeFd5j"
      },
      "outputs": [],
      "source": [
        "%%shell\n",
        "\n",
        "sudo apt update\n",
        "\n",
        "export REPO=$(mktemp /tmp/repo.XXXXXXXXX) \n",
        "curl -o ${REPO} https://storage.googleapis.com/git-repo-downloads/repo\n",
        "gpg --recv-key 8BB9AD793E8E6153AF0F9A4416530D5E920F5C65\n",
        "curl -s https://storage.googleapis.com/git-repo-downloads/repo.asc | gpg \\\n",
        "--verify - ${REPO} && install -m 755 ${REPO} /usr/bin/repo\n",
        "\n",
        "# Colab specific deps\n",
        "sudo apt install tzdata  libnss3 flex gperf \\\n",
        " ca-certificates-java wget curl libxml2-utils \\\n",
        " schedtool libbison-dev bison lib32z1\n",
        "\n",
        "# CM11 uses Python2\n",
        "# Due to issues with build system in CM11, replace Python3 with Python2\n",
        "update-alternatives --install /usr/bin/python python /usr/bin/python2.7 10\n",
        "update-alternatives --install /usr/bin/python3 python3 /usr/bin/python2.7 3\n",
        "update-alternatives --set python3 /usr/bin/python2.7\n",
        "\n",
        "git config --global user.email \"fake@email.address\"\n",
        "git config --global user.name \"Dummy user\"\n",
        "\n",
        "sudo mount -o mode=1777,nosuid,nodev -t ramfs ramfs /tmp"
      ]
    },
    {
      "cell_type": "markdown",
      "metadata": {
        "id": "M6WjsNojJ4SY"
      },
      "source": [
        "# Downloading source code"
      ]
    },
    {
      "cell_type": "code",
      "execution_count": null,
      "metadata": {
        "id": "87UdW6mZLKJB"
      },
      "outputs": [],
      "source": [
        "%%shell\n",
        "\n",
        "echo You will need to deny with N in this next step\n",
        "echo You will need to deny with N in this next step\n",
        "echo You will need to deny with N in this next step\n",
        "echo You will need to deny with N in this next step\n",
        "repo init -q --depth=1 -u https://github.com/CyanogenMod/android.git -b cm-11.0\n",
        "mkdir .repo/local_manifests\n",
        "git clone https://github.com/samsung-goya/android_platform_manifest.git .repo/local_manifests && rm -rf .repo/local_manifests/.git/\n",
        "repo sync -c --force-sync --optimized-fetch --no-tags --no-clone-bundle --prune -j12\n",
        "mkdir keep_potf\n",
        "mv .repo/potf* .\n",
        "rm -rf .repo\n",
        "rm -rf /content/sample_data\n",
        "rm -rf /content/working_dir\n",
        "\n",
        "# Patching on the fly\n",
        "source potf.sh"
      ]
    },
    {
      "cell_type": "markdown",
      "metadata": {
        "id": "_mDQv-u_P5JE"
      },
      "source": [
        "# Installing Java JDK 6 *(closed source)*"
      ]
    },
    {
      "cell_type": "code",
      "execution_count": null,
      "metadata": {
        "id": "ilJFLXVbP_3R"
      },
      "outputs": [],
      "source": [
        "%%shell\n",
        "\n",
        "mkdir /content/.jdk_6\n",
        "cd /content/.jdk_6\n",
        "wget https://repo.huaweicloud.com/java/jdk/6u45-b06/jdk-6u45-linux-x64.bin\n",
        "chmod +x jdk-6u45-linux-x64.bin\n",
        "./jdk-6u45-linux-x64.bin\n",
        "sudo update-alternatives --install /usr/bin/javac javac /content/.jdk_6/jdk1.6.0_45/bin/javac 1\n",
        "sudo update-alternatives --set javac /content/.jdk_6/jdk1.6.0_45/bin/javac\n",
        "\n",
        "sudo update-alternatives --install /usr/bin/java java /content/.jdk_6/jdk1.6.0_45/bin/java 1\n",
        "sudo update-alternatives --set java /content/.jdk_6/jdk1.6.0_45/bin/java\n",
        "\n",
        "sudo update-alternatives --install /usr/bin/javaws javaws /content/.jdk_6/jdk1.6.0_45/bin/javaws 1\n",
        "sudo update-alternatives --set javaws /content/.jdk_6/jdk1.6.0_45/bin/javaws\n",
        "\n",
        "sudo update-alternatives --install /usr/bin/javadoc javadoc /content/.jdk_6/jdk1.6.0_45/bin/javadoc 1\n",
        "sudo update-alternatives --set javadoc /content/.jdk_6/jdk1.6.0_45/bin/javadoc\n",
        "\n",
        "sudo update-alternatives --install /usr/bin/javah javah /content/.jdk_6/jdk1.6.0_45/bin/javah 1\n",
        "sudo update-alternatives --set javah /content/.jdk_6/jdk1.6.0_45/bin/javah\n",
        "\n",
        "sudo update-alternatives --install /usr/bin/javap javap /content/.jdk_6/jdk1.6.0_45/bin/javap 1\n",
        "sudo update-alternatives --set javap /content/.jdk_6/jdk1.6.0_45/bin/javap\n",
        "\n",
        "sudo update-alternatives --install /usr/bin/jar jar /content/.jdk_6/jdk1.6.0_45/bin/jar 1\n",
        "sudo update-alternatives --set jar /content/.jdk_6/jdk1.6.0_45/bin/jar"
      ]
    },
    {
      "cell_type": "markdown",
      "metadata": {
        "id": "EQ59PELINhqu"
      },
      "source": [
        "# Building Android"
      ]
    },
    {
      "cell_type": "code",
      "execution_count": null,
      "metadata": {
        "id": "j3qSI57ONkSP"
      },
      "outputs": [],
      "source": [
        "%%shell\n",
        "\n",
        ". build/envsetup.sh\n",
        "lunch cm_goyawifi-userdebug\n",
        "make -j16 bacon"
      ]
    }
  ],
  "metadata": {
    "colab": {
      "provenance": []
    },
    "kernelspec": {
      "display_name": "Python 3",
      "name": "python3"
    },
    "language_info": {
      "name": "python"
    }
  },
  "nbformat": 4,
  "nbformat_minor": 0
}
